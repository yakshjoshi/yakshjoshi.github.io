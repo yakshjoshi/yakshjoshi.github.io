{
 "cells": [
  {
   "cell_type": "markdown",
   "id": "e5a6c0f4-4d92-4e0c-8268-dd3e2b2f34f8",
   "metadata": {},
   "source": [
    "# CSCI 2000U - Scientific Data Analysis\n",
    "## Assignment 1\n",
    "\n",
    "> You can work individually or in groups of 2 people.\n",
    "> Collaboration *between* groups will be considered as plagiarism.\n",
    "\n",
    "**Due date:** Oct 22nd 11:59PM via Canvas.\n",
    "\n",
    "**Late policy:** 10% deduction per day. Up to 3 days late.\n",
    "\n",
    "> If you require an extension per your registered accommodations, please contact the instructor via MS Teams before the deadline.\n",
    "\n",
    "Please add your name/ID to your solution/notebook"
   ]
  },
  {
   "cell_type": "raw",
   "id": "59c2ad92-bdb1-45cc-b700-fa6e2823e6cb",
   "metadata": {},
   "source": [
    "Group/Individual Names\n",
    "Firstname Lastname - studentID\n",
    "Firstname Lastname - studentID"
   ]
  },
  {
   "cell_type": "markdown",
   "id": "44123a20-bd42-4563-a5da-3f1da6857b69",
   "metadata": {},
   "source": [
    "This assignment has 2 parts.\n",
    "- **Part 1:** Getting to know your data (3 points)\n",
    "- **Part 2:** Data analysis using functional programming (7 points)\n",
    "\n",
    "## The dataset\n",
    "**Video Game Sales**\n",
    "\n",
    "*Source: https://www.kaggle.com/gregorut/videogamesales*\n",
    "\n",
    "This dataset contains a list of video games with sales greater than 100,000 copies.\n",
    "\n",
    "- Rank - Ranking of overall sales\n",
    "- Name - The games name\n",
    "- Platform - Platform of the games release (i.e. PC,PS4, etc.)\n",
    "- Year - Year of the game's release\n",
    "- Genre - Genre of the game\n",
    "- Publisher - Publisher of the game\n",
    "- NA_Sales - Sales in North America (in millions)\n",
    "- EU_Sales - Sales in Europe (in millions)\n",
    "- JP_Sales - Sales in Japan (in millions)\n",
    "- Other_Sales - Sales in the rest of the world (in millions)\n",
    "- Global_Sales - Total worldwide sales.\n",
    "\n",
    "*What to expect from the data*\n",
    "\n",
    "Due to the nature of this data, we are able to perform analysis on popularity of different games, game genres, game publishers, location, year, and platforms.\n",
    "Therefore, this data can give us information on different trends related to sales of games."
   ]
  },
  {
   "cell_type": "code",
   "execution_count": null,
   "id": "1cc27bc1-f229-4151-a13c-325c8bc4c6be",
   "metadata": {},
   "outputs": [],
   "source": [
    "#importing used libraries\n",
    "import csv\n",
    "import re\n",
    "from functools import reduce\n",
    "import numpy as np\n",
    "\n",
    "# this aux function reads the CSV file and returns the data in a Python dictionary\n",
    "def get_data_csv():\n",
    "    collection = []\n",
    "    with open('vgsales.csv', 'r') as f:\n",
    "        for line in csv.DictReader(f):\n",
    "            collection.append(line)\n",
    "        return collection\n",
    "        \n",
    "# the data    \n",
    "data = get_data_csv()"
   ]
  },
  {
   "cell_type": "markdown",
   "id": "16778f3a-b2a6-4c0c-9782-cbc2cb69f2ec",
   "metadata": {},
   "source": [
    "## Part 1\n",
    "\n",
    "*Getting to know your data*\n",
    "\n",
    "It's important to know more about your data before you start calculating, sorting, and grouping data to extract information. This way you will have a further understanding of what to expect, therefore, easier to validate your data analysis results.\n",
    "\n",
    "Answer all the questions by investigating the `data` object. You may use Markdown cells to organize your answers to each question. Nevertheless, you should make sure you use comments to organize your code/answers well. You may choose use several code cells. The most importantly is that the grader is able to read through your notebook and understand your organization.\n",
    "\n",
    "*Obs1. do not use Pandas*\n",
    "\n",
    "1. How many data records do you have? Print how many records.\n",
    "2. What do the few first records look like? Display the top 5 records.\n",
    "3. Are all game names unique in this dataset? If not, how many are unique?\n",
    "4. What is the dataset's range of years (oldest and newest)? Display the range.\n",
    "5. What are the different game genres in the dataset? Display how many they are and their names.\n",
    "6. What are the different publishers in the dataset? Display how many they are.\n",
    "7. What are the different game platforms in the dataset? Display how many they are and their names."
   ]
  },
  {
   "cell_type": "code",
   "execution_count": null,
   "id": "bb6600c7-170e-40c7-9b8e-58a8128ec17d",
   "metadata": {},
   "outputs": [],
   "source": [
    "# Your solution"
   ]
  },
  {
   "cell_type": "markdown",
   "id": "72426bc6-640d-40e1-9f0f-4c676abb6513",
   "metadata": {},
   "source": [
    "## Part 2\n",
    "*Running your data analysis*\n",
    "\n",
    "### TASK 1 - Sales per Genre\n",
    "\n",
    "Calculate the items below and then answer the takeaway questions given.\n",
    "\n",
    "Use `map`, `reduce`, `filter`, `lambda`, *list comprehension* functions whenever is possible.\n",
    "\n",
    "1. Calculate the total sales per game genre globally.\n",
    "2. Calculate the total sales per game genre in North America.\n",
    "3. Calculate the total sales per game genre in Japan.\n",
    "4. Calculate the total sales per game genre in Europe.\n",
    "5. Calculate the total sales per game genre in other parts of the world (except Japan, North America, and Europe)."
   ]
  },
  {
   "cell_type": "code",
   "execution_count": null,
   "id": "5642ee51-68e8-4b9d-93c6-d4b0e454fb64",
   "metadata": {},
   "outputs": [],
   "source": [
    "#Your solution"
   ]
  },
  {
   "cell_type": "markdown",
   "id": "3ad3984f-15be-40b7-a1ab-e2051ef1dbd6",
   "metadata": {},
   "source": [
    "#### TAKEAWAYS\n",
    "\n",
    "- **T1.** What are the most popular game genres world-wide (top 3)?\n",
    "- **T2.** In terms of the most popular game genres calculated, how does it vary across the different regions? DO they align with the world-wide trend, or how do they differ?"
   ]
  },
  {
   "cell_type": "markdown",
   "id": "f621a9b4-6bcd-40b4-898f-9b018f5b5ff7",
   "metadata": {},
   "source": [
    "### TASK 2 - Sales per Platform\n",
    "\n",
    "Calculate the items below and then answer the takeaway questions given.\n",
    "\n",
    "Use `map`, `reduce`, `filter`, `lambda`, *list comprehension* functions whenever is possible.\n",
    "\n",
    "1. Calculate the total sales per game platform globally.\n",
    "2. Calculate the total sales per game platform in North America.\n",
    "3. Calculate the total sales per game platform in Japan.\n",
    "4. Calculate the total sales per game platform in Europe.\n",
    "5. Calculate the total sales per game platform in other parts of the world (except Japan, North America, and Europe)."
   ]
  },
  {
   "cell_type": "code",
   "execution_count": null,
   "id": "3dfaf0ce-5eeb-40e9-b37e-6a4119616a6b",
   "metadata": {},
   "outputs": [],
   "source": [
    "# Your solution"
   ]
  },
  {
   "cell_type": "markdown",
   "id": "33ba164b-9e7a-4075-aa09-b9b036763360",
   "metadata": {},
   "source": [
    "#### TAKEAWAYS\n",
    "\n",
    "- **T3.** What are the most popular game platform world-wide (top 3)?\n",
    "- **T4.** In terms of the most popular game platforms calculated, how does it vary across the different regions? Do they align with the world-wide trend, or how do they differ?"
   ]
  },
  {
   "cell_type": "markdown",
   "id": "2ba04711-0d07-46f5-a5d4-ee029cbbfd55",
   "metadata": {},
   "source": [
    "### TASK 3 - Sales per Game Name\n",
    "\n",
    "Calculate the items below and then answer the takeaway questions given.\n",
    "\n",
    "Use `map`, `reduce`, `filter`, `lambda`, *list comprehension* functions whenever is possible.\n",
    "\n",
    "1. Calculate the total sales per game globally.\n",
    "2. Calculate the total sales per game in North America.\n",
    "3. Calculate the total sales per game in Japan.\n",
    "4. Calculate the total sales per game in Europe.\n",
    "5. Calculate the total sales per game in other parts of the world (except Japan, North America, and Europe)."
   ]
  },
  {
   "cell_type": "code",
   "execution_count": null,
   "id": "76522496-783a-44f1-ae0c-bb003391a3cc",
   "metadata": {},
   "outputs": [],
   "source": [
    "# Your solution"
   ]
  },
  {
   "cell_type": "markdown",
   "id": "80a21311-fb56-4349-bfa6-c0c3d74d2c0b",
   "metadata": {},
   "source": [
    "#### TAKEAWAYS\n",
    "\n",
    "- **T5.** What are the most popular games world-wide (top 3)?\n",
    "- **T6.** In terms of the most popular games calculated, how does it vary across the different regions? Do they align with the world-wide trend, or how do they differ?"
   ]
  },
  {
   "cell_type": "markdown",
   "id": "2f165b84-90c2-4ca4-9e05-360092793730",
   "metadata": {},
   "source": [
    "### TASK 4 - Sales per game studio (Publisher)\n",
    "\n",
    "Calculate the items below and then answer the takeaway questions given.\n",
    "\n",
    "Use `map`, `reduce`, `filter`, `lambda`, *list comprehension* functions whenever is possible.\n",
    "\n",
    "1. Calculate the total sales per game publisher globally.\n",
    "2. Calculate the total sales per game publisher in North America.\n",
    "3. Calculate the total sales per game publisher in Japan.\n",
    "4. Calculate the total sales per game publisher in Europe.\n",
    "5. Calculate the total sales per game publisher in other parts of the world (except Japan, North America, and Europe)."
   ]
  },
  {
   "cell_type": "code",
   "execution_count": null,
   "id": "c9429a27-4663-4fde-815c-6520ee4aeb49",
   "metadata": {},
   "outputs": [],
   "source": [
    "# Your solution"
   ]
  },
  {
   "cell_type": "markdown",
   "id": "adcbd9f1-639d-4ceb-bbf0-0e8aff4f5b3d",
   "metadata": {},
   "source": [
    "#### TAKEAWAYS\n",
    "\n",
    "- **T7.** What are the most popular game publisher world-wide (top 3)?\n",
    "- **T8.** In terms of the most popular game publisher calculated, how does it vary across the different regions? Do they align with the world-wide trend, or how do they differ?\n",
    "- **T9.** Is there a correlation between the most popular games and publishers across the different regions?"
   ]
  },
  {
   "cell_type": "markdown",
   "id": "416c5355-b9e6-4906-9aaa-cd91b8a49dbb",
   "metadata": {},
   "source": [
    "## Submission instructions\n",
    "\n",
    "- Submissions will be done via Canvas.\n",
    "- Submit **both** the PDF and ipynb version of your solution/notebook.\n",
    "- Name your files following the pattern `csci2000u-<lastname-firstname>-assignment1`\n",
    "    - Groups: `csci2000u-<lastname1-firstname1>_<lastname2-firstname2>-assignment1`\n",
    "    - In the Canvas submission, add both group members' names in the `Comments...`\n",
    "    - Only 1 submission per group"
   ]
  }
 ],
 "metadata": {
  "kernelspec": {
   "display_name": "Python 3 (ipykernel)",
   "language": "python",
   "name": "python3"
  },
  "language_info": {
   "codemirror_mode": {
    "name": "ipython",
    "version": 3
   },
   "file_extension": ".py",
   "mimetype": "text/x-python",
   "name": "python",
   "nbconvert_exporter": "python",
   "pygments_lexer": "ipython3",
   "version": "3.9.6"
  }
 },
 "nbformat": 4,
 "nbformat_minor": 5
}
